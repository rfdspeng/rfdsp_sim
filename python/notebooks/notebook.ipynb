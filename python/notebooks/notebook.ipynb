{
 "cells": [
  {
   "cell_type": "code",
   "execution_count": 1,
   "id": "ab50808f",
   "metadata": {},
   "outputs": [],
   "source": [
    "import numpy as np\n",
    "import scipy\n",
    "import matplotlib.pyplot as plt"
   ]
  },
  {
   "cell_type": "code",
   "execution_count": 16,
   "id": "00dd968b",
   "metadata": {},
   "outputs": [
    {
     "data": {
      "text/plain": [
       "numpy.ndarray"
      ]
     },
     "execution_count": 16,
     "metadata": {},
     "output_type": "execute_result"
    }
   ],
   "source": [
    "import numpy as np\n",
    "a = np.arange(15).reshape(3, 5)\n",
    "a\n",
    "a.shape\n",
    "a.ndim\n",
    "a.dtype.name\n",
    "type(a.dtype)\n",
    "a.dtype\n",
    "a.itemsize\n",
    "a.size\n",
    "type(a)\n",
    "b = np.array([6, 7, 8])\n",
    "b\n",
    "type(b)"
   ]
  },
  {
   "cell_type": "code",
   "execution_count": 18,
   "id": "6cf5af46",
   "metadata": {},
   "outputs": [
    {
     "name": "stdout",
     "output_type": "stream",
     "text": [
      "[[3 3 3]\n",
      " [3 3 3]]\n",
      "[[3.51182162 3.9504637  3.14415961]\n",
      " [3.94864945 3.31183145 3.42332645]]\n"
     ]
    },
    {
     "ename": "UFuncTypeError",
     "evalue": "Cannot cast ufunc 'add' output from dtype('float64') to dtype('int64') with casting rule 'same_kind'",
     "output_type": "error",
     "traceback": [
      "\u001b[31m---------------------------------------------------------------------------\u001b[39m",
      "\u001b[31mUFuncTypeError\u001b[39m                            Traceback (most recent call last)",
      "\u001b[36mCell\u001b[39m\u001b[36m \u001b[39m\u001b[32mIn[18]\u001b[39m\u001b[32m, line 8\u001b[39m\n\u001b[32m      6\u001b[39m b += a\n\u001b[32m      7\u001b[39m \u001b[38;5;28mprint\u001b[39m(b)\n\u001b[32m----> \u001b[39m\u001b[32m8\u001b[39m \u001b[43ma\u001b[49m\u001b[43m \u001b[49m\u001b[43m+\u001b[49m\u001b[43m=\u001b[49m\u001b[43m \u001b[49m\u001b[43mb\u001b[49m  \u001b[38;5;66;03m# b is not automatically converted to integer type\u001b[39;00m\n",
      "\u001b[31mUFuncTypeError\u001b[39m: Cannot cast ufunc 'add' output from dtype('float64') to dtype('int64') with casting rule 'same_kind'"
     ]
    }
   ],
   "source": [
    "rg = np.random.default_rng(1)  # create instance of default random number generator\n",
    "a = np.ones((2, 3), dtype=int)\n",
    "b = rg.random((2, 3))\n",
    "a *= 3\n",
    "print(a)\n",
    "b += a\n",
    "print(b)\n",
    "a += b  # b is not automatically converted to integer type"
   ]
  },
  {
   "cell_type": "code",
   "execution_count": 45,
   "id": "34ddb5af",
   "metadata": {},
   "outputs": [],
   "source": [
    "rng = np.random.default_rng()"
   ]
  },
  {
   "cell_type": "code",
   "execution_count": 55,
   "id": "b0cac92f",
   "metadata": {},
   "outputs": [
    {
     "name": "stdout",
     "output_type": "stream",
     "text": [
      "[-0.01064675 -0.28649645  0.42082874  0.2426568  -0.63637863  0.80650433\n",
      " -0.36198935 -0.11061737  0.79540468 -0.49497027]\n"
     ]
    },
    {
     "ename": "AttributeError",
     "evalue": "'numpy.ndarray' object has no attribute 'abs'",
     "output_type": "error",
     "traceback": [
      "\u001b[31m---------------------------------------------------------------------------\u001b[39m",
      "\u001b[31mAttributeError\u001b[39m                            Traceback (most recent call last)",
      "\u001b[36mCell\u001b[39m\u001b[36m \u001b[39m\u001b[32mIn[55]\u001b[39m\u001b[32m, line 3\u001b[39m\n\u001b[32m      1\u001b[39m a = rng.random((\u001b[32m10\u001b[39m))*\u001b[32m2\u001b[39m-\u001b[32m1\u001b[39m\n\u001b[32m      2\u001b[39m \u001b[38;5;28mprint\u001b[39m(a)\n\u001b[32m----> \u001b[39m\u001b[32m3\u001b[39m \u001b[38;5;28mprint\u001b[39m(\u001b[43ma\u001b[49m\u001b[43m.\u001b[49m\u001b[43mabs\u001b[49m())\n",
      "\u001b[31mAttributeError\u001b[39m: 'numpy.ndarray' object has no attribute 'abs'"
     ]
    }
   ],
   "source": [
    "a = rng.random((10))*2-1\n",
    "print(a)\n",
    "print(a.abs())"
   ]
  },
  {
   "cell_type": "code",
   "execution_count": 49,
   "id": "8f22d485",
   "metadata": {},
   "outputs": [
    {
     "name": "stdout",
     "output_type": "stream",
     "text": [
      "T\n",
      "__abs__\n",
      "__add__\n",
      "__and__\n",
      "__array__\n",
      "__array_interface__\n",
      "__array_namespace__\n",
      "__array_priority__\n",
      "__array_struct__\n",
      "__array_wrap__\n",
      "__bool__\n",
      "__buffer__\n",
      "__ceil__\n",
      "__class__\n",
      "__class_getitem__\n",
      "__copy__\n",
      "__deepcopy__\n",
      "__delattr__\n",
      "__dir__\n",
      "__divmod__\n",
      "__doc__\n",
      "__eq__\n",
      "__float__\n",
      "__floor__\n",
      "__floordiv__\n",
      "__format__\n",
      "__ge__\n",
      "__getattribute__\n",
      "__getformat__\n",
      "__getitem__\n",
      "__getnewargs__\n",
      "__getstate__\n",
      "__gt__\n",
      "__hash__\n",
      "__init__\n",
      "__init_subclass__\n",
      "__int__\n",
      "__invert__\n",
      "__le__\n",
      "__lshift__\n",
      "__lt__\n",
      "__mod__\n",
      "__mul__\n",
      "__ne__\n",
      "__neg__\n",
      "__new__\n",
      "__or__\n",
      "__pos__\n",
      "__pow__\n",
      "__radd__\n",
      "__rand__\n",
      "__rdivmod__\n",
      "__reduce__\n",
      "__reduce_ex__\n",
      "__repr__\n",
      "__rfloordiv__\n",
      "__rlshift__\n",
      "__rmod__\n",
      "__rmul__\n",
      "__ror__\n",
      "__round__\n",
      "__rpow__\n",
      "__rrshift__\n",
      "__rshift__\n",
      "__rsub__\n",
      "__rtruediv__\n",
      "__rxor__\n",
      "__setattr__\n",
      "__setstate__\n",
      "__sizeof__\n",
      "__str__\n",
      "__sub__\n",
      "__subclasshook__\n",
      "__truediv__\n",
      "__trunc__\n",
      "__xor__\n",
      "all\n",
      "any\n",
      "argmax\n",
      "argmin\n",
      "argsort\n",
      "as_integer_ratio\n",
      "astype\n",
      "base\n",
      "byteswap\n",
      "choose\n",
      "clip\n",
      "compress\n",
      "conj\n",
      "conjugate\n",
      "copy\n",
      "cumprod\n",
      "cumsum\n",
      "data\n",
      "device\n",
      "diagonal\n",
      "dtype\n",
      "dump\n",
      "dumps\n",
      "fill\n",
      "flags\n",
      "flat\n",
      "flatten\n",
      "fromhex\n",
      "getfield\n",
      "hex\n",
      "imag\n",
      "is_integer\n",
      "item\n",
      "itemset\n",
      "itemsize\n",
      "max\n",
      "mean\n",
      "min\n",
      "nbytes\n",
      "ndim\n",
      "newbyteorder\n",
      "nonzero\n",
      "prod\n",
      "ptp\n",
      "put\n",
      "ravel\n",
      "real\n",
      "repeat\n",
      "reshape\n",
      "resize\n",
      "round\n",
      "searchsorted\n",
      "setfield\n",
      "setflags\n",
      "shape\n",
      "size\n",
      "sort\n",
      "squeeze\n",
      "std\n",
      "strides\n",
      "sum\n",
      "swapaxes\n",
      "take\n",
      "to_device\n",
      "tobytes\n",
      "tofile\n",
      "tolist\n",
      "tostring\n",
      "trace\n",
      "transpose\n",
      "var\n",
      "view\n"
     ]
    }
   ],
   "source": [
    "print(*dir(rng.random((10)).mean()), sep=\"\\n\")"
   ]
  },
  {
   "cell_type": "code",
   "execution_count": 44,
   "id": "0edd3219",
   "metadata": {},
   "outputs": [
    {
     "data": {
      "text/plain": [
       "array([], dtype=float64)"
      ]
     },
     "execution_count": 44,
     "metadata": {},
     "output_type": "execute_result"
    }
   ],
   "source": [
    "np.empty(0)"
   ]
  },
  {
   "cell_type": "code",
   "execution_count": 61,
   "id": "f0e1d8eb",
   "metadata": {},
   "outputs": [],
   "source": [
    "import numpy as np\n",
    "from scipy import signal\n",
    "\n",
    "def psd(x: np.ndarray, fs, rbw, wintype='kaiser', **kwargs):\n",
    "    \"\"\"\n",
    "    Calculate PSD of a signal\n",
    "    \n",
    "    Parameters\n",
    "    ----------\n",
    "    x : signal in Volts\n",
    "    fs : sampling rate in MHz\n",
    "    rbw : desired resolution BW in MHz\n",
    "    wintype : determines type of window to use on each segment\n",
    "\n",
    "    Returns\n",
    "    -------\n",
    "    p : PSD of x in V^2/Hz\n",
    "    f : PSD frequencies in MHz\n",
    "    \n",
    "    \"\"\"\n",
    "    \n",
    "    nfft = np.ceil(fs/rbw)\n",
    "\n",
    "    print(kwargs)\n",
    "    \n",
    "    if wintype == 'kaiser':\n",
    "        # taps = signal.windows.kaiser(nfft,25)\n",
    "        taps = signal.windows.kaiser(nfft, **kwargs)\n",
    "        print(taps)"
   ]
  },
  {
   "cell_type": "code",
   "execution_count": 64,
   "id": "bc2a803d",
   "metadata": {},
   "outputs": [
    {
     "data": {
      "text/plain": [
       "array([1.73173349e-10, 1.47706224e-06, 8.20643667e-05, 1.34940813e-03,\n",
       "       1.09695631e-02, 5.40200287e-02, 1.78769108e-01, 4.21874155e-01,\n",
       "       7.35486335e-01, 9.66620479e-01, 9.66620479e-01, 7.35486335e-01,\n",
       "       4.21874155e-01, 1.78769108e-01, 5.40200287e-02, 1.09695631e-02,\n",
       "       1.34940813e-03, 8.20643667e-05, 1.47706224e-06, 1.73173349e-10])"
      ]
     },
     "execution_count": 64,
     "metadata": {},
     "output_type": "execute_result"
    }
   ],
   "source": [
    "taps = signal.windows.kaiser(20, beta=25)\n",
    "taps"
   ]
  },
  {
   "cell_type": "code",
   "execution_count": 62,
   "id": "e437cd14",
   "metadata": {},
   "outputs": [
    {
     "name": "stdout",
     "output_type": "stream",
     "text": [
      "{'beta': 25}\n",
      "[1.73173349e-10 1.47706224e-06 8.20643667e-05 1.34940813e-03\n",
      " 1.09695631e-02 5.40200287e-02 1.78769108e-01 4.21874155e-01\n",
      " 7.35486335e-01 9.66620479e-01 9.66620479e-01 7.35486335e-01\n",
      " 4.21874155e-01 1.78769108e-01 5.40200287e-02 1.09695631e-02\n",
      " 1.34940813e-03 8.20643667e-05 1.47706224e-06 1.73173349e-10]\n"
     ]
    }
   ],
   "source": [
    "x = np.arange(15)\n",
    "fs = 20\n",
    "rbw = 1\n",
    "\n",
    "psd(x, fs, rbw, beta=25)"
   ]
  },
  {
   "cell_type": "code",
   "execution_count": 65,
   "id": "4ca0118a",
   "metadata": {},
   "outputs": [
    {
     "name": "stdout",
     "output_type": "stream",
     "text": [
      "0\n",
      "1\n"
     ]
    }
   ],
   "source": [
    "a = [0, 1]\n",
    "b, c = a\n",
    "print(b)\n",
    "print(c)"
   ]
  },
  {
   "cell_type": "code",
   "execution_count": 71,
   "id": "504eb76e",
   "metadata": {},
   "outputs": [
    {
     "data": {
      "text/plain": [
       "array([0, 1, 2, 3, 4, 5, 6, 7, 8, 9])"
      ]
     },
     "execution_count": 71,
     "metadata": {},
     "output_type": "execute_result"
    }
   ],
   "source": [
    "x = np.arange(10) + 1j*np.arange(10)\n",
    "x = np.arange(10)\n",
    "x"
   ]
  },
  {
   "cell_type": "code",
   "execution_count": 75,
   "id": "40b834ac",
   "metadata": {},
   "outputs": [
    {
     "data": {
      "text/plain": [
       "np.int64(285)"
      ]
     },
     "execution_count": 75,
     "metadata": {},
     "output_type": "execute_result"
    }
   ],
   "source": [
    "(x*x.conj()).real.sum()"
   ]
  },
  {
   "cell_type": "code",
   "execution_count": 74,
   "id": "c8ef9157",
   "metadata": {},
   "outputs": [
    {
     "data": {
      "text/plain": [
       "np.int64(285)"
      ]
     },
     "execution_count": 74,
     "metadata": {},
     "output_type": "execute_result"
    }
   ],
   "source": [
    "np.vdot(x, x)"
   ]
  }
 ],
 "metadata": {
  "kernelspec": {
   "display_name": "venv",
   "language": "python",
   "name": "python3"
  },
  "language_info": {
   "codemirror_mode": {
    "name": "ipython",
    "version": 3
   },
   "file_extension": ".py",
   "mimetype": "text/x-python",
   "name": "python",
   "nbconvert_exporter": "python",
   "pygments_lexer": "ipython3",
   "version": "3.12.3"
  }
 },
 "nbformat": 4,
 "nbformat_minor": 5
}
