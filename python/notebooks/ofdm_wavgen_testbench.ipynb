{
 "cells": [
  {
   "cell_type": "code",
   "execution_count": 1,
   "id": "f8b13401",
   "metadata": {},
   "outputs": [
    {
     "name": "stdout",
     "output_type": "stream",
     "text": [
      "/usr/lib/python312.zip\n",
      "/usr/lib/python3.12\n",
      "/usr/lib/python3.12/lib-dynload\n",
      "\n",
      "/home/ryanwtsai/repos/rfdsp_sim/python/venv/lib/python3.12/site-packages\n",
      "/home/ryanwtsai/repos/rfdsp_sim/python\n"
     ]
    }
   ],
   "source": [
    "import numpy as np\n",
    "import scipy\n",
    "import matplotlib.pyplot as plt\n",
    "from pathlib import Path\n",
    "import sys\n",
    "\n",
    "root = str(Path().resolve().parent)\n",
    "if root not in sys.path:\n",
    "    sys.path.append(root)\n",
    "print(*sys.path, sep=\"\\n\")"
   ]
  },
  {
   "cell_type": "code",
   "execution_count": 3,
   "id": "4b47c763",
   "metadata": {},
   "outputs": [
    {
     "data": {
      "text/plain": [
       "<module 'rfdsppy.nonlinear_model' from '/home/ryanwtsai/repos/rfdsp_sim/python/rfdsppy/nonlinear_model.py'>"
      ]
     },
     "execution_count": 3,
     "metadata": {},
     "output_type": "execute_result"
    }
   ],
   "source": [
    "from importlib import reload\n",
    "from rfdsppy import calc, ofdm, nonlinear_model\n",
    "\n",
    "reload(calc)\n",
    "reload(ofdm)\n",
    "reload(nonlinear_model)"
   ]
  },
  {
   "cell_type": "code",
   "execution_count": null,
   "id": "37df502d",
   "metadata": {},
   "outputs": [],
   "source": [
    "en_td_plot = True\n",
    "en_psd_plot = True\n",
    "en_const_plot = True\n",
    "\n",
    "# Waveform params\n",
    "en_tprecodes = [True, False] # DFT-s-OFDM, CP-OFDM\n",
    "en_tprecodes = [True]\n",
    "modorders = [4, 16, 64, 256]\n",
    "modorders = [4]\n",
    "wola = 10\n",
    "\n",
    "# Sweep waveforms\n",
    "out = {\n",
    "    \"Waveform\": [],\n",
    "    \"EVM (%)\": [],\n",
    "    \"SNR (dB)\": [],\n",
    "}\n",
    "for en_tprecode in en_tprecodes:\n",
    "    for modorder in modorders:\n",
    "\n",
    "        # Initialize waveform generator\n",
    "        wg = ofdm.OFDMWavGen(bw=20, scs=15, modorder=modorder, en_tprecode=en_tprecode, wola=wola)\n",
    "\n",
    "        # Generate waveform\n",
    "        x, x_standard = wg.generate(nsym=14, seed=0)\n",
    "        \n",
    "        # Plot time-domain samples\n",
    "        if en_td_plot:\n",
    "            fig = plt.figure()\n",
    "            plt.plot(np.abs(np.concatenate((np.zeros(round(wg.wola_len/2)), x_standard, np.zeros(round(wg.wola_len/2))))))\n",
    "            plt.plot(np.abs(x))\n",
    "        \n",
    "        # Plot PSDs\n",
    "        if en_psd_plot:\n",
    "            rbw = scs/1000/2**2\n",
    "            p, f = calc.psd(x,fs,rbw)\n",
    "            ps, f = calc.psd(x_standard,fs,rbw)\n",
    "            fig = plt.figure()\n",
    "            plt.plot(f, 10*np.log10(ps))\n",
    "            plt.plot(f, 10*np.log10(p))\n",
    "            plt.title(\"PSD\", {'fontsize':40})\n",
    "            plt.xlabel(\"Frequency (MHz)\", {'fontsize':30})\n",
    "            plt.ylabel(\"PSD (dB/Bin)\", {'fontsize':30})\n",
    "            plt.xticks(fontsize=20)\n",
    "            plt.yticks(fontsize=20)\n",
    "            plt.autoscale(enable=True, axis='both', tight=True)\n",
    "            plt.grid()\n",
    "        \n",
    "        # EVM\n",
    "        if en_const_plot:\n",
    "            cfg_evm['en_plot'] = 1\n",
    "        evm = ofdm.ofdm_evm_calculator(cfg_evm,x_standard,x[round(wola_len/2):])\n",
    "        snr = round(-20*np.log10(evm/100),2)\n",
    "        \n",
    "        wavstr = 'DFT-s-OFDM ' if en_tprecode == 1 else 'CP-OFDM '\n",
    "        wavstr = wavstr + 'QPSK' if modorder == 4 else wavstr + str(modorder) + 'QAM'\n",
    "        out['Waveform'].append(wavstr)\n",
    "        out['EVM (%)'].append(evm)\n",
    "        out['SNR (dB)'].append(snr)\n",
    "\n",
    "out = pd.DataFrame(out)\n",
    "print(out)"
   ]
  }
 ],
 "metadata": {
  "kernelspec": {
   "display_name": "venv",
   "language": "python",
   "name": "python3"
  },
  "language_info": {
   "codemirror_mode": {
    "name": "ipython",
    "version": 3
   },
   "file_extension": ".py",
   "mimetype": "text/x-python",
   "name": "python",
   "nbconvert_exporter": "python",
   "pygments_lexer": "ipython3",
   "version": "3.12.3"
  }
 },
 "nbformat": 4,
 "nbformat_minor": 5
}
